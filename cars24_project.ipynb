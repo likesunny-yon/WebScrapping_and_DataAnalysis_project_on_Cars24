{
 "cells": [
  {
   "cell_type": "code",
   "execution_count": null,
   "metadata": {},
   "outputs": [],
   "source": [
    "#Importing all libraries\n",
    "import warnings\n",
    "warnings.filterwarnings('ignore')\n",
    "import numpy as np\n",
    "import pandas as pd\n",
    "import matplotlib.pyplot as plt\n",
    "%matplotlib inline\n",
    "import seaborn as sns\n",
    "import requests\n",
    "from bs4 import BeautifulSoup\n",
    "import re\n",
    "import time\n",
    "#To display the last output not only the last result we use interactive shell\n",
    "from IPython.core.interactiveshell import InteractiveShell\n",
    "InteractiveShell.ast_node_interactivity = 'all'"
   ]
  },
  {
   "cell_type": "markdown",
   "metadata": {},
   "source": [
    "### City names and Codes\n",
    "\n",
    "Delhi=2,\n",
    "Mumbai=2378, \n",
    "Bangalore=4709,\n",
    "Hyderabad=3686,\n",
    "Kolkata=7777,\n",
    "Chennai=5732,\n",
    "Gurgaon=5,\n",
    "Ahmadabad=1692,\n",
    "Noida=134,\n",
    "Pune=2423"
   ]
  },
  {
   "cell_type": "markdown",
   "metadata": {},
   "source": [
    "# Webscraping from Cars 24 website"
   ]
  },
  {
   "cell_type": "code",
   "execution_count": null,
   "metadata": {},
   "outputs": [],
   "source": [
    "# To append the data from website empty lists are needed\n",
    "productname = []\n",
    "Res=[]\n",
    "Ty=[]\n",
    "range1=[]\n",
    "price = []\n",
    "paym=[]\n",
    "Bran=[]\n",
    "pagenum=[]\n",
    "loc = []\n",
    "\n",
    "\n",
    "\n",
    "\n",
    "Cities={2:'Delhi',2378:'Mumbai',4709:'Bangalore',3686:'Hyderabad',7777:'Kolkata',5732:'Chennai',5:'Gurgaon',1692:'Ahmadabad',134:'Noida',2423:'Pune'}\n",
    "\n",
    "for j,k in Cities.items():\n",
    "    \n",
    "    for i in range(1,21):\n",
    "        start_time = time.time()\n",
    "        URL ='https://www.cars24.com/buy-used-car/?sort=P&page={}&storeCityId={}'.format(i,j)\n",
    "        print(URL)\n",
    "        page = requests.get(URL,verify=False)\n",
    "        pagecontent = page.text\n",
    "        \n",
    "        soup = BeautifulSoup(pagecontent)\n",
    "    \n",
    "        \n",
    "       \n",
    "        for x in soup.find_all('div', attrs={'class':'col-4'}):\n",
    "            \n",
    "            \n",
    "           \n",
    "            pname = x.find('h2', attrs = {'class':'_3FpCg'})\n",
    "            Reserved=x.find('div',attrs={'class':'_23Bx7'})\n",
    "            Type=x.find('p',attrs={'class':'cvakB'})\n",
    "            km=x.find('ul', attrs = {'class':'bVR0c'})\n",
    "            cost=x.find('div', attrs = {'class':'_19zc5'})\n",
    "            payment=x.find('span',attrs={'class':'_3X7mV _2H07I'})\n",
    "            Brand=x.find('div',attrs={'class':'card _1DywR'})\n",
    "                \n",
    "           \n",
    "            loc.append(k)\n",
    "            \n",
    "            if pname is None:\n",
    "                productname.append(np.NaN)\n",
    "            else:\n",
    "                productname.append(pname.text)\n",
    "                \n",
    "            if Reserved is None:\n",
    "                Res.append(np.NaN)\n",
    "            else:\n",
    "                Res.append(Reserved.text)  \n",
    "\n",
    "            if Type is None:\n",
    "                Ty.append(np.NaN)\n",
    "\n",
    "            else:\n",
    "                Ty.append(Type.text) \n",
    "\n",
    "\n",
    "            if km is None:\n",
    "                 range1.append(np.NaN)\n",
    "            else:\n",
    "                range1.append(km.text)\n",
    "                \n",
    "            if cost is None:\n",
    "                price.append(np.NaN)\n",
    "            else:\n",
    "                price.append(cost.text)\n",
    "\n",
    "            if payment is None:\n",
    "                paym.append(np.NaN)\n",
    "            else:\n",
    "                paym.append(payment.text)\n",
    "\n",
    "            if Brand is None:\n",
    "                Bran.append(np.NaN)\n",
    "            else:\n",
    "                Bran.append(Brand.text)\n",
    "        \n",
    "                \n",
    "\n",
    "            \n",
    "                \n",
    "            pagenum.append(i)\n",
    "        print('Page {} completed in {} seconds'.format(i, time.time()-start_time))"
   ]
  },
  {
   "cell_type": "code",
   "execution_count": null,
   "metadata": {},
   "outputs": [],
   "source": [
    "len(productname)\n",
    "len(price)\n",
    "len(range1)\n",
    "len(pagenum)\n",
    "len(loc)"
   ]
  },
  {
   "cell_type": "markdown",
   "metadata": {},
   "source": [
    "# Datacleaning using Pandas"
   ]
  },
  {
   "cell_type": "code",
   "execution_count": null,
   "metadata": {},
   "outputs": [],
   "source": [
    "# converting into Datafrme and column names are provided\n",
    "\n",
    "cars_df=pd.DataFrame({'Cityname':loc,'ProductName':productname,'Reserved':Res, 'Type':Ty,'Price':price,'Range':range1, 'payment':paym, 'Pagenumber':pagenum})\n",
    "cars_df"
   ]
  },
  {
   "cell_type": "code",
   "execution_count": null,
   "metadata": {},
   "outputs": [],
   "source": [
    "# Converted to CSV file\n",
    "cars_df.to_csv('./cars_df.csv')"
   ]
  },
  {
   "cell_type": "code",
   "execution_count": null,
   "metadata": {},
   "outputs": [],
   "source": [
    "cars_df1=pd.read_csv(\"./cars_df.csv\")"
   ]
  },
  {
   "cell_type": "code",
   "execution_count": null,
   "metadata": {},
   "outputs": [],
   "source": [
    "cars_df1"
   ]
  },
  {
   "cell_type": "code",
   "execution_count": null,
   "metadata": {},
   "outputs": [],
   "source": [
    "#Dropped the column Unnamed and pasted the dataframe in new variable\n",
    "cars_df2=cars_df1.drop(\"Unnamed: 0\",axis=1)"
   ]
  },
  {
   "cell_type": "code",
   "execution_count": null,
   "metadata": {},
   "outputs": [],
   "source": [
    "cars_df2"
   ]
  },
  {
   "cell_type": "code",
   "execution_count": null,
   "metadata": {},
   "outputs": [],
   "source": [
    "# Splited the column \"price\" into two columns and store it variable called \"new\"\n",
    "new=cars_df2[\"Price\"].str.split(\"₹\",n=2,expand=True)"
   ]
  },
  {
   "cell_type": "code",
   "execution_count": null,
   "metadata": {},
   "outputs": [],
   "source": [
    "new"
   ]
  },
  {
   "cell_type": "code",
   "execution_count": null,
   "metadata": {},
   "outputs": [],
   "source": [
    "# Creating two new columns in cardf2 and storing values from new dataframe\n",
    "cars_df2['Pricepermonth']=new[1]\n",
    "cars_df2['Totalprice']=new[2]"
   ]
  },
  {
   "cell_type": "code",
   "execution_count": null,
   "metadata": {},
   "outputs": [],
   "source": [
    "# Converting the column into string column\n",
    "cars_df2['Pricepermonth']=''+cars_df2['Pricepermonth'].astype(str)"
   ]
  },
  {
   "cell_type": "code",
   "execution_count": null,
   "metadata": {},
   "outputs": [],
   "source": [
    "cars_df2['Totalprice']='₹'+cars_df2['Totalprice'].astype(str)"
   ]
  },
  {
   "cell_type": "code",
   "execution_count": null,
   "metadata": {},
   "outputs": [],
   "source": [
    "#Removing textual data from the Range column and storing it in new variable\n",
    "cars_df2['Range1']=cars_df2['Range'].str.extract('(\\d{2,}(,)\\d{2,}( )[a-z]{1,})',expand=True)"
   ]
  },
  {
   "cell_type": "code",
   "execution_count": null,
   "metadata": {},
   "outputs": [],
   "source": [
    "#To get the textual data from the column Range\n",
    "cars_df2['Fuel']=cars_df2['Range'].str.extract('(\\d[a-z]{1,}( )[A-Za-z]{,5})',expand=True)"
   ]
  },
  {
   "cell_type": "code",
   "execution_count": null,
   "metadata": {},
   "outputs": [],
   "source": [
    "# Splitted the textual data and divided into two new columns m, n\n",
    "cars_df2[['m','n']]=cars_df2['Range'].str.split('r',n=1,expand=True)"
   ]
  },
  {
   "cell_type": "code",
   "execution_count": null,
   "metadata": {},
   "outputs": [],
   "source": [
    "# Dropping the Range column and m column\n",
    "cars_df2.drop(['Range','m'],axis='columns',inplace=True)"
   ]
  },
  {
   "cell_type": "code",
   "execution_count": null,
   "metadata": {},
   "outputs": [],
   "source": [
    "#Renaming the Range1 column to Range for user understandability\n",
    "cars_df2.rename(columns={'Range1':'Range'},inplace=True)"
   ]
  },
  {
   "cell_type": "code",
   "execution_count": null,
   "metadata": {},
   "outputs": [],
   "source": [
    "#Splitting the Productname column at the spaces to make into three columns\n",
    "cars_df2[['Year','Company_name','Product_version']]=cars_df2['ProductName'].str.split(' ',n=2,expand=True)"
   ]
  },
  {
   "cell_type": "code",
   "execution_count": null,
   "metadata": {},
   "outputs": [],
   "source": [
    "\n",
    "cars_df2[['Company_name','n']]=cars_df2['Product_version'].str.extract('([A-Za-z]{1,}( ))',expand=True)\n",
    "cars_df2"
   ]
  },
  {
   "cell_type": "code",
   "execution_count": null,
   "metadata": {},
   "outputs": [],
   "source": [
    "#Dropping the empty colunm n\n",
    "cars_df2.drop(['n'],axis='columns',inplace=True)"
   ]
  },
  {
   "cell_type": "code",
   "execution_count": null,
   "metadata": {},
   "outputs": [],
   "source": [
    "# this will show true or false in Type column if \"Automatic\"/\"Manual\" is presnet\n",
    "cars_df2['Type1']=cars_df2['Type'].str.contains(\"Automatic|Manual\")==True"
   ]
  },
  {
   "cell_type": "code",
   "execution_count": null,
   "metadata": {},
   "outputs": [],
   "source": [
    "cars_df2"
   ]
  },
  {
   "cell_type": "code",
   "execution_count": null,
   "metadata": {},
   "outputs": [],
   "source": [
    "cars_df2['Product_version']=cars_df2['Product_version'].str.split(' ',n=2,expand=True)"
   ]
  },
  {
   "cell_type": "code",
   "execution_count": null,
   "metadata": {},
   "outputs": [],
   "source": [
    "#Adding \"Automatic\"/\"Manual\" in the \"Type1\" column\n",
    "\n",
    "substr=('Automatic','Manual')\n",
    "\n",
    "cars_df2['Type1'] = cars_df2['Type'].str.findall('|'.join(substr)).str[0]\n",
    "\n"
   ]
  },
  {
   "cell_type": "code",
   "execution_count": null,
   "metadata": {},
   "outputs": [],
   "source": [
    "cars_df2"
   ]
  },
  {
   "cell_type": "code",
   "execution_count": null,
   "metadata": {},
   "outputs": [],
   "source": [
    "#Changing column names of \"product version\" & \"Type1\"\n",
    "cars_df2.rename(columns={'Product_version':'Vehicle_version','Type1':'Mode'},inplace=True)"
   ]
  },
  {
   "cell_type": "code",
   "execution_count": null,
   "metadata": {},
   "outputs": [],
   "source": [
    "\n",
    "#cars_df2[['Pricepermonth','Range']]=df[\"Pricepermonth\", \"Range\"].str.replace(\",\",\"\")\n",
    "#cars_df2"
   ]
  },
  {
   "cell_type": "code",
   "execution_count": null,
   "metadata": {},
   "outputs": [],
   "source": [
    "cars_df2['Fuel']=cars_df2['Range'].str.extract('(\\d[a-z]{1,}( )[A-Za-z]{,5})',expand=True)"
   ]
  },
  {
   "cell_type": "code",
   "execution_count": null,
   "metadata": {},
   "outputs": [],
   "source": [
    "# Removing /month from \"Pricepremonth\" column and replacing commas\n",
    "cars_df2[\"Pricepermonth\"] = cars_df2[\"Pricepermonth\"].apply(lambda x:str(x).replace(\"/month\",\"\").replace(\",\",\"\")).astype(float)"
   ]
  },
  {
   "cell_type": "code",
   "execution_count": null,
   "metadata": {},
   "outputs": [],
   "source": [
    "cars_df2[\"Reserved\"]"
   ]
  },
  {
   "cell_type": "code",
   "execution_count": null,
   "metadata": {},
   "outputs": [],
   "source": [
    "#Removing commas from Total price column and converting it into float type\n",
    "cars_df2[\"Totalprice\"] = cars_df2[\"Totalprice\"].apply(lambda x:str(x).replace(\",\",\"\")).astype(float)"
   ]
  },
  {
   "cell_type": "code",
   "execution_count": null,
   "metadata": {},
   "outputs": [],
   "source": [
    "cars_df2['Ownertype'].unique()"
   ]
  },
  {
   "cell_type": "code",
   "execution_count": null,
   "metadata": {},
   "outputs": [],
   "source": [
    "#Extracting only number and text\n",
    "cars_df2['Ownertype']=cars_df2['Ownertype'].str.extract('(\\d[a-z]{1,3})',expand=True)"
   ]
  },
  {
   "cell_type": "code",
   "execution_count": null,
   "metadata": {},
   "outputs": [],
   "source": [
    "# Dropping the columns\n",
    "#Payment column is deleted bcz, for every car there is only zero down payment\n",
    "cars_df2.drop(['ProductName','Reserved','Price','Payment','Pagenumber','pricepermonth'],axis='columns',inplace=True)"
   ]
  },
  {
   "cell_type": "code",
   "execution_count": null,
   "metadata": {},
   "outputs": [],
   "source": [
    "Splitting into two columns at Manual/Automatic\n",
    "cars_df2[['Type_name','Type1']]=cars_df2[\"Type\"].str.split(\"Manual|Automatic\",n=-1,expand=True)"
   ]
  },
  {
   "cell_type": "code",
   "execution_count": null,
   "metadata": {},
   "outputs": [],
   "source": [
    "cars_df2"
   ]
  },
  {
   "cell_type": "code",
   "execution_count": null,
   "metadata": {},
   "outputs": [],
   "source": [
    "#cars_df2.drop(['Range'],axis='columns',inplace=True)"
   ]
  },
  {
   "cell_type": "code",
   "execution_count": null,
   "metadata": {},
   "outputs": [],
   "source": [
    "#Changing the column name\n",
    "cars_df2['km_driven'] = cars_df2['Range']"
   ]
  },
  {
   "cell_type": "code",
   "execution_count": null,
   "metadata": {},
   "outputs": [],
   "source": [
    "cars_df2"
   ]
  },
  {
   "cell_type": "code",
   "execution_count": null,
   "metadata": {},
   "outputs": [],
   "source": [
    "#pd.set_option('display.max_rows', None)"
   ]
  },
  {
   "cell_type": "code",
   "execution_count": null,
   "metadata": {},
   "outputs": [],
   "source": [
    "df = cars_df2.copy()"
   ]
  },
  {
   "cell_type": "markdown",
   "metadata": {},
   "source": [
    "### City name"
   ]
  },
  {
   "cell_type": "code",
   "execution_count": null,
   "metadata": {},
   "outputs": [],
   "source": [
    "df['Cityname'].describe()"
   ]
  },
  {
   "cell_type": "code",
   "execution_count": null,
   "metadata": {},
   "outputs": [],
   "source": [
    "df['Cityname'].value_counts()"
   ]
  },
  {
   "cell_type": "code",
   "execution_count": null,
   "metadata": {},
   "outputs": [],
   "source": [
    "cars_df2"
   ]
  },
  {
   "cell_type": "code",
   "execution_count": null,
   "metadata": {},
   "outputs": [],
   "source": [
    "#copying the dataframe to cars24 variable\n",
    "cars24=cars_df2.copy()"
   ]
  },
  {
   "cell_type": "code",
   "execution_count": null,
   "metadata": {},
   "outputs": [],
   "source": [
    "#Printing first 5 rows\n",
    "cars24.head()"
   ]
  },
  {
   "cell_type": "code",
   "execution_count": null,
   "metadata": {},
   "outputs": [],
   "source": [
    "print(cars24.dtypes)"
   ]
  },
  {
   "cell_type": "code",
   "execution_count": null,
   "metadata": {},
   "outputs": [],
   "source": [
    "#To know is there any Nans presnet in the columns\n",
    "print(\"Cityname:\", cars24['Cityname'].isna().sum())\n",
    "print(\"Pricepermonth:\", cars24['Pricepermonth'].isna().sum())\n",
    "print(\"Totalprice:\", cars24['Totalprice'].isna().sum())\n",
    "print(\"Ownertype:\", cars24['Ownertype'].isna().sum())\n",
    "print(\"Fuel:\", cars24['Fuel'].isna().sum())\n",
    "print(\"Year:\", cars24['Year'].isna().sum())\n",
    "print(\"Vehicle_version:\", cars24['Vehicle_version'].isna().sum())\n",
    "print(\"Company_name:\", cars24['Company_name'].isna().sum())\n",
    "print(\"Mode:\", cars24['Mode'].isna().sum())\n",
    "print(\"Type_name:\", cars24['Type_name'].isna().sum())\n",
    "print(\"km_driven:\", cars24['km_driven'].isna().sum())"
   ]
  },
  {
   "cell_type": "code",
   "execution_count": null,
   "metadata": {},
   "outputs": [],
   "source": [
    "# To count the NaN values for every column by single line of code\n",
    "cars24.isna().sum()"
   ]
  },
  {
   "cell_type": "code",
   "execution_count": null,
   "metadata": {},
   "outputs": [],
   "source": [
    "cars24.shape"
   ]
  },
  {
   "cell_type": "code",
   "execution_count": null,
   "metadata": {},
   "outputs": [],
   "source": [
    "#Dropping all the NAN value rows, by taking reference from price per month column\n",
    "cars24=cars24.dropna(subset=['Pricepermonth'])"
   ]
  },
  {
   "cell_type": "code",
   "execution_count": null,
   "metadata": {},
   "outputs": [],
   "source": [
    "cars24.shape"
   ]
  },
  {
   "cell_type": "code",
   "execution_count": null,
   "metadata": {},
   "outputs": [],
   "source": [
    "# Filling it to Unknown\n",
    "cars24=cars24.fillna({'Mode':'Unknown'})"
   ]
  },
  {
   "cell_type": "code",
   "execution_count": null,
   "metadata": {},
   "outputs": [],
   "source": [
    "cars24"
   ]
  },
  {
   "cell_type": "code",
   "execution_count": null,
   "metadata": {},
   "outputs": [],
   "source": [
    "cars241=cars24.copy()\n",
    "cars241"
   ]
  },
  {
   "cell_type": "code",
   "execution_count": null,
   "metadata": {
    "scrolled": true
   },
   "outputs": [],
   "source": [
    "#To fill the NAN values which are present in KM_DRIVEN to the mean values, by taking average for every year in kmdriven\n",
    "cars24['km_driven'] = cars24['km_driven'].fillna(cars24.groupby('Year')['km_driven'].transform('mean'))\n",
    "cars24"
   ]
  },
  {
   "cell_type": "code",
   "execution_count": null,
   "metadata": {},
   "outputs": [],
   "source": [
    "cars24['Fuel'].unique()"
   ]
  },
  {
   "cell_type": "code",
   "execution_count": null,
   "metadata": {},
   "outputs": [],
   "source": [
    "# To replaace the text of \"d Owner\"\n",
    "cars24[\"Fuel\"] = cars24[\"Fuel\"].apply(lambda x:str(x).replace(\"d Owner\",\"\"))"
   ]
  },
  {
   "cell_type": "code",
   "execution_count": null,
   "metadata": {},
   "outputs": [],
   "source": [
    "cars24"
   ]
  },
  {
   "cell_type": "code",
   "execution_count": null,
   "metadata": {},
   "outputs": [],
   "source": [
    "# Converting it into xlsx file\n",
    "filename='cars24.xlsx'\n",
    "cars24.to_excel(filename)"
   ]
  },
  {
   "cell_type": "code",
   "execution_count": null,
   "metadata": {},
   "outputs": [],
   "source": [
    "cars24.head()"
   ]
  },
  {
   "cell_type": "code",
   "execution_count": null,
   "metadata": {},
   "outputs": [],
   "source": [
    "# Reading xlsx file\n",
    "cars24=pd.read_excel('cars24.xlsx',index_col=0)\n",
    "cars24"
   ]
  },
  {
   "cell_type": "code",
   "execution_count": null,
   "metadata": {},
   "outputs": [],
   "source": [
    "cars24.head()\n",
    "cars24.shape"
   ]
  },
  {
   "cell_type": "code",
   "execution_count": null,
   "metadata": {
    "scrolled": false
   },
   "outputs": [],
   "source": [
    "#To know the frequency of texts in the Mode column\n",
    "cars24[\"Mode\"].value_counts()"
   ]
  },
  {
   "cell_type": "code",
   "execution_count": null,
   "metadata": {},
   "outputs": [],
   "source": [
    "# Replacing \"UNknowns\" to \"Manual\" because they are high in number when compared to \"Automatic\"\n",
    "cars24[\"Mode\"] = cars24[\"Mode\"].apply(lambda x:str(x).replace(\"Unknown\",\"Manual\"))"
   ]
  },
  {
   "cell_type": "code",
   "execution_count": null,
   "metadata": {},
   "outputs": [],
   "source": [
    "cars24[\"Vehiclename\"]=cars24[\"Company_name\"]+\" \"+cars24[\"Vehicle_version\"]"
   ]
  },
  {
   "cell_type": "code",
   "execution_count": null,
   "metadata": {},
   "outputs": [],
   "source": [
    "cars24"
   ]
  },
  {
   "cell_type": "markdown",
   "metadata": {},
   "source": [
    "## Exploratory Data Analysis\n",
    "\n"
   ]
  },
  {
   "cell_type": "markdown",
   "metadata": {},
   "source": [
    "### Univariate plots"
   ]
  },
  {
   "cell_type": "code",
   "execution_count": null,
   "metadata": {},
   "outputs": [],
   "source": [
    "\n",
    "fig=plt.figure(figsize=(15,5))\n",
    "\n",
    "k=sns.countplot(x='Company_name',data=cars24)\n",
    "\n",
    "y=k.set_xticklabels(k.get_xticklabels(), rotation=40, ha=\"right\")\n",
    "#ax.set_xticklabels(ax.get_xticklabels(), fontsize=7)\n",
    "y=plt.title(\"To count the company cars which are there in the cars24 website\",fontsize=20,fontweight=\"bold\")\n",
    "plt.tight_layout()\n",
    "plt.show(y)"
   ]
  },
  {
   "cell_type": "markdown",
   "metadata": {},
   "source": [
    "##### Insight\n",
    "* Here the count plot illustrates that the most cars which are for sell is from \"Maruti\" company which is 1200+ cars among 9 cities and the second largest cars for selling is from Hyundai and remaining all are <200 in number"
   ]
  },
  {
   "cell_type": "code",
   "execution_count": null,
   "metadata": {},
   "outputs": [],
   "source": [
    "#plt.figure(dpi=100)\n",
    "\n",
    "fig=plt.figure(figsize=(15,5))\n",
    "\n",
    "\n",
    "fig=sns.set(style=\"white\")\n",
    "\n",
    "fig=sns.histplot(data=cars24, x=\"Pricepermonth\", kde=True,color='green',hue='Ownertype')\n",
    "fig=fig.set_title(\"To count the frequency of price per month with owner type\",fontsize=20,fontweight=\"bold\")\n",
    "fig=plt.tight_layout()\n",
    "plt.show(fig)"
   ]
  },
  {
   "cell_type": "markdown",
   "metadata": {},
   "source": [
    "##### Insight\n",
    "* From this histogram we can tell that the peak pricepermonth for ownertype 1 and 2 is around 15,000, Furthermore we can tell that the 3rd,4th,5th,6th owner types are almost negligible in cars 24 company. Hence, we can tell that 99% of cars which come for cars24 company is of Ownertype 1 & 2."
   ]
  },
  {
   "cell_type": "code",
   "execution_count": null,
   "metadata": {},
   "outputs": [],
   "source": [
    "k=plt.figure(figsize=(10,7))\n",
    "\n",
    "explode = (0.05, 0.05, 0.05, 0.05, 0.05,0.05,0.05,0.05,0.05)\n",
    "\n",
    "k=cars24.groupby('Cityname').size().plot(kind='pie', autopct='%.2f',explode=explode)\n",
    "#k=plt.pie(cars24['Cityname'].value_counts(),labels=cars24['Cityname'])\n",
    "\n",
    "centre_circle = plt.Circle((0, 0), 0.70, fc='white')\n",
    "k=fig = plt.gcf()\n",
    "k=fig.gca().add_artist(centre_circle)\n",
    "#fig=fig.set_title(\"Citynames with their percentages\",fontsize=20,fontweight=\"bold\")\n",
    "k=plt.title(\"Citynames with their percentages of cars available in each city \",fontsize=12,fontweight=\"bold\")\n",
    "plt.show(k)"
   ]
  },
  {
   "cell_type": "markdown",
   "metadata": {},
   "source": [
    "##### Insight\n",
    "* From the above circle graph, it depicts that from cities like \"Delhi\", \"Chennai\",\"Bangalore\",\"Ahmadabad\", \"Pune\", \"Mumbai\" the same percentage of cars are coming for sale, However, the less percentage of cars coming for sale is from city \"Gurgaon\".Hyderabad and Noida occupies in between 8 to 4%"
   ]
  },
  {
   "cell_type": "markdown",
   "metadata": {},
   "source": [
    "### Bivariate plots"
   ]
  },
  {
   "cell_type": "code",
   "execution_count": null,
   "metadata": {},
   "outputs": [],
   "source": [
    "\n",
    "fig=plt.figure(figsize=(15,5))\n",
    "\n",
    "k=sns.countplot(x='Year',data=cars24,hue=\"Fuel\");\n",
    "y=k.set_xticklabels(k.get_xticklabels(), rotation=40, ha=\"right\")\n",
    "#ax.set_xticklabels(ax.get_xticklabels(), fontsize=7)\n",
    "k=plt.title(\"To count the fuel types per each year \",fontsize=15,fontweight=\"bold\")\n",
    "plt.tight_layout()\n",
    "plt.show(y)"
   ]
  },
  {
   "cell_type": "markdown",
   "metadata": {},
   "source": [
    "##### Insight\n",
    "* From the above bar graph it shows that the highest number of cars came for the sale is in the year of 2017 for \"Petrol\" and \"Diesel\" cars and almost nill in the months of 2002 & 2004. Additionlly, the graph says that the cars with Fuel like \"Petrol+CNG\" and \"Petrol+LPG\" is very less in every year for sale"
   ]
  },
  {
   "cell_type": "code",
   "execution_count": null,
   "metadata": {},
   "outputs": [],
   "source": [
    "\n",
    "k=plt.figure(figsize=(15,5))\n",
    "k=sns.boxplot( x=cars24[\"Company_name\"], y=cars24[\"Totalprice\"])\n",
    "y=k.set_xticklabels(k.get_xticklabels(), rotation=90, ha=\"right\")\n",
    "k=plt.title(\"To get the Avg Total price for every company car and their deviations from the average\",fontsize=15,fontweight=\"bold\")\n"
   ]
  },
  {
   "cell_type": "markdown",
   "metadata": {},
   "source": [
    "##### Insight\n",
    "* The above box plot tells us that the average total price, maximum and minimum prices for each car company in cars 24 site."
   ]
  },
  {
   "cell_type": "code",
   "execution_count": null,
   "metadata": {},
   "outputs": [],
   "source": [
    "\n",
    "k=plt.figure(figsize=(20,10))\n",
    "k = sns.violinplot(x=\"Company_name\", y=\"km_driven\", hue=\"Mode\",\n",
    "                    data=cars24, palette=\"muted\")\n",
    "y=k.set_xticklabels(k.get_xticklabels(), rotation=40, ha=\"right\")\n",
    "k=plt.title(\"Maximum km_driven vs company name w.r.t Gear transmission\",fontsize=15,fontweight=\"bold\")\n"
   ]
  },
  {
   "cell_type": "markdown",
   "metadata": {},
   "source": [
    "##### Insight\n",
    "* The above violin plot tells that the Km_driven by each car company. Violin plot mosly uses for to show maximums. From the above plot it tells that \"Toyata\" company car driven most kilometers in \"Automatic\" and \"Manual\" modes"
   ]
  },
  {
   "cell_type": "code",
   "execution_count": null,
   "metadata": {},
   "outputs": [],
   "source": [
    "k=plt.figure(figsize=(20,7))\n",
    "k=sns.relplot(x=\"Totalprice\", y=\"km_driven\", hue=\"Mode\", \n",
    "           data=cars24);\n",
    "k=plt.title(\"Total price vs km_driven w.r.t Gear transmission\",fontsize=15,fontweight=\"bold\")\n",
    "\n"
   ]
  },
  {
   "cell_type": "markdown",
   "metadata": {},
   "source": [
    "##### Insight\n",
    "* From the above relation plot, it shows that for \"Manual\" type  85% of cars in the range of 0 to 1000000/- \"Total price\"\n",
    "and km driven is in between 0 to 200000, However, in \"Automatic\" mode the 75% cars lies in between the price of 1000000 and\n",
    "2000000 and Km_driven is in between 0 to 150000"
   ]
  },
  {
   "cell_type": "code",
   "execution_count": null,
   "metadata": {},
   "outputs": [],
   "source": [
    "fig=plt.figure(figsize=(15,5))\n",
    "k=sns.swarmplot(x='Cityname',y=\"km_driven\",hue=\"Ownertype\",data=cars24)\n",
    "\n",
    "y=k.set_xticklabels(k.get_xticklabels(), rotation=40, ha=\"right\")\n",
    "#ax.set_xticklabels(ax.get_xticklabels(), fontsize=7)\n",
    "k=plt.title(\"Cityname vs km_driven w.r.t Owner type\",fontsize=15,fontweight=\"bold\")\n",
    "plt.tight_layout()\n",
    "plt.show(y)"
   ]
  },
  {
   "cell_type": "markdown",
   "metadata": {},
   "source": [
    "##### Insight\n",
    "* The above swarn plot tells that 70% of cars in every city is of type 1st and 25% of cars is of 2nd type and 3% is of 3rd type \n",
    "an remaining 2% is of remaining types"
   ]
  },
  {
   "cell_type": "code",
   "execution_count": null,
   "metadata": {},
   "outputs": [],
   "source": [
    "top_10car = cars24.groupby(\"Vehicle_version\")['Totalprice'].max().nlargest(10)\n",
    "top10 = pd.DataFrame(top_10car)"
   ]
  },
  {
   "cell_type": "code",
   "execution_count": null,
   "metadata": {},
   "outputs": [],
   "source": [
    "top10_car = pd.merge(top10,cars24,on = \"Totalprice\")"
   ]
  },
  {
   "cell_type": "code",
   "execution_count": null,
   "metadata": {},
   "outputs": [],
   "source": [
    "top10_car\n"
   ]
  },
  {
   "cell_type": "code",
   "execution_count": null,
   "metadata": {},
   "outputs": [],
   "source": [
    "Top=cars24.groupby([\"Cityname\"])[\"Totalprice\",\"km_driven\",\"Company_name\",\"Vehicle_version\",\"Ownertype\",\"Fuel\"].max()\n",
    "Bottom=cars24.groupby([\"Cityname\"])[\"Totalprice\",\"km_driven\",\"Company_name\",\"Vehicle_version\",\"Ownertype\",\"Fuel\"].min()"
   ]
  },
  {
   "cell_type": "code",
   "execution_count": null,
   "metadata": {},
   "outputs": [],
   "source": [
    "Top=pd.DataFrame(Top)"
   ]
  },
  {
   "cell_type": "code",
   "execution_count": null,
   "metadata": {},
   "outputs": [],
   "source": [
    "Top=Top.reset_index()\n",
    "Top"
   ]
  },
  {
   "cell_type": "code",
   "execution_count": null,
   "metadata": {},
   "outputs": [],
   "source": [
    "Bottom=pd.DataFrame(Bottom)"
   ]
  },
  {
   "cell_type": "code",
   "execution_count": null,
   "metadata": {},
   "outputs": [],
   "source": [
    "Bottom=Bottom.reset_index()\n",
    "Bottom"
   ]
  },
  {
   "cell_type": "code",
   "execution_count": null,
   "metadata": {},
   "outputs": [],
   "source": [
    "Top[\"Vehiclename\"]=Top[\"Company_name\"]+\" \"+Top[\"Vehicle_version\"]\n",
    "Bottom[\"Vehiclename\"]=Bottom[\"Company_name\"]+\" \"+Bottom[\"Vehicle_version\"]"
   ]
  },
  {
   "cell_type": "code",
   "execution_count": null,
   "metadata": {},
   "outputs": [],
   "source": [
    "#k=plt.figure(1)\n",
    "#k=plt.figure(dpi=120)\n",
    "k=plt.figure(figsize=(15,5))\n",
    "k=plt.subplot(1, 2, 1)\n",
    "k=sns.countplot(Top[\"Cityname\"],hue=Top[\"Vehiclename\"])\n",
    "k=plt.xticks(rotation=90)\n",
    "k=plt.legend(loc='upper left')\n",
    "k=plt.title(\"To count the top cars in every city wrt Vehiclename\",fontsize=10,fontweight=\"bold\")\n",
    "k=plt.tight_layout()\n",
    "\n",
    "\n",
    "k=plt.subplot(1, 2, 2)\n",
    "k=sns.countplot(Bottom[\"Vehiclename\"],hue=Bottom[\"Fuel\"])\n",
    "k=plt.xticks(rotation=45)\n",
    "k=plt.title(\"To count the bottom cars in every city wrt fueltype\",fontsize=10,fontweight=\"bold\")\n",
    "k=plt.tight_layout()\n",
    "\n",
    "\n",
    "#k=plt.figure(2)\n",
    "#k=plt.figure(dpi=120)\n",
    "k=plt.figure(figsize=(15,5))\n",
    "k=plt.subplot(2, 2, 1)\n",
    "k=sns.countplot(Top[\"Ownertype\"])\n",
    "k=plt.xticks(rotation=45)\n",
    "k=plt.title(\"To count the top cars owner type\",fontsize=10,fontweight=\"bold\")\n",
    "k=plt.tight_layout()\n",
    "\n",
    "k=plt.subplot(2, 2, 2)\n",
    "k=sns.countplot(Bottom[\"Ownertype\"])\n",
    "k=plt.xticks(rotation=45)\n",
    "k=plt.title(\"To count the Bottom cars owner type\",fontsize=10,fontweight=\"bold\")\n",
    "k=plt.tight_layout()\n",
    "\n",
    "\n",
    "k=plt.subplot(2, 2, 3)\n",
    "k=sns.countplot(cars24[\"Ownertype\"])\n",
    "k=plt.xticks(rotation=45)\n",
    "k=plt.title(\"To count cars owner type available in cars 24 data set\",fontsize=10,fontweight=\"bold\")\n",
    "k=plt.tight_layout()\n",
    "\n",
    "\n",
    "plt.show(k)\n"
   ]
  },
  {
   "cell_type": "markdown",
   "metadata": {},
   "source": [
    "##### Insight\n",
    "1. First bar graph tells that those four vehicle names have the maximum total price with respective states.\n",
    "2. Second count plot tells that the vehicles which have minimum Total Price is of fuel \"Diesel\"\n",
    "3. Third bar plot tells that the count of maximum price vehicles respective with Ownertype. 4th owner type car has 4 cars \n",
    "    as maximum price\n",
    "4. Fourth plot tells that the 1st owner type cars has minimum price\n",
    "5. Fifth count plot tells that the number of vehicles in each owner type, 1st: 2000+, 2nd: 500+, 3rd: <100 and 4th, 5th, 6th    are  almost negligible."
   ]
  },
  {
   "cell_type": "code",
   "execution_count": null,
   "metadata": {},
   "outputs": [],
   "source": [
    "\n",
    "k=plt.figure(figsize=(15,5))\n",
    "k=plt.plot(cars24.groupby([\"Cityname\"])[\"Totalprice\"].max())\n",
    "k=plt.plot(cars24.groupby([\"Cityname\"])[\"Totalprice\"].min())\n",
    "k=plt.legend(['Maximum', 'Minimum'])\n",
    "k=plt.title(\"Maximum & Minimum price of cars in each & every city\",fontsize=15,fontweight=\"bold\")\n",
    "plt.show(k)"
   ]
  },
  {
   "cell_type": "markdown",
   "metadata": {},
   "source": [
    "##### Insight\n",
    "* The above line graph illustrates that the maximum and Minimum \"Total price\" in each \"City\""
   ]
  },
  {
   "cell_type": "code",
   "execution_count": null,
   "metadata": {},
   "outputs": [],
   "source": [
    "k=plt.figure(dpi = 100)\n",
    "k=sns.heatmap(cars24.corr(),linecolor='white',linewidths=2,annot=True);\n",
    "k=plt.title(\"To show correlation b/w numerical variables\",fontsize=15,fontweight=\"bold\")"
   ]
  },
  {
   "cell_type": "markdown",
   "metadata": {},
   "source": [
    "##### Insight\n",
    "* The above heat map tells that there is 15%negative correlation between pricepermonth/Totaprice and km_driven. It represents that as \n",
    "    one increases other decreases\n",
    "*The above heat map tells that there is 50%negative correlation between pricepermonth/Totaprice and year. It represents that as \n",
    "    one increases other decreases\n",
    "* The above heat map tells that there is 45%positive correlation between pricepermonth/Totaprice and year. It represents that as \n",
    "    one increases other increase\n",
    "    "
   ]
  },
  {
   "cell_type": "code",
   "execution_count": null,
   "metadata": {},
   "outputs": [],
   "source": [
    "# Latest year cars in every city\n",
    "k=plt.figure(figsize=(15,5))\n",
    "k=plt.subplot(1, 2, 1)\n",
    "k=sns.swarmplot(x=\"Vehiclename\", y=\"Totalprice\", hue=\"Cityname\", data=cars24[cars24[\"Year\"]==cars24[\"Year\"].max()])\n",
    "k=plt.xticks(rotation=90)\n",
    "k=plt.legend(loc='upper right')\n",
    "k=plt.title(\"Vehiclename vs Total price wrt cityname\",fontsize=13,fontweight=\"bold\")\n",
    "k=plt.tight_layout()\n",
    "\n",
    "k=plt.subplot(1, 2, 2)\n",
    "k=sns.swarmplot(x=\"Vehiclename\", y=\"Cityname\", hue=\"Ownertype\", data=cars24[cars24[\"Year\"]==cars24[\"Year\"].max()],marker='D',s=8)\n",
    "k=plt.xticks(rotation=90)\n",
    "k=plt.legend(loc='upper left')\n",
    "k=plt.title(\"Vehiclename vs Cityname wrt Ownertype\",fontsize=13,fontweight=\"bold\")\n",
    "k=plt.tight_layout()\n",
    "\n",
    "k=plt.figure(figsize=(15,5))\n",
    "k=plt.subplot(2, 2, 1)\n",
    "k=sns.swarmplot(x=\"Vehiclename\", y=\"Mode\", hue=\"Fuel\", marker=\"*\", data=cars24[cars24[\"Year\"]==cars24[\"Year\"].max()],s=10)\n",
    "k=plt.xticks(rotation=90)\n",
    "k=plt.legend(loc='center')\n",
    "k=plt.title(\"Vehiclename vs Gear transmission wrt fueltype\",fontsize=13,fontweight=\"bold\")\n",
    "k=plt.tight_layout()"
   ]
  },
  {
   "cell_type": "markdown",
   "metadata": {},
   "source": [
    "##### Insight\n",
    "   *This swarn plot showing that latest cars and their prices in every city. From this graph, it shows that eventhough same \n",
    "    cars but showing differences in \"Total prices\" in between cities.\n",
    "   \n",
    "   *2nd graph is showing that all the latest cars belongs to 1st car ownertype, that means nobody interested to sell the cars\n",
    "    for 2nd and 3rd owner type\n",
    "   \n",
    "   *3rd graph representing that 90% of cars are \"Manual\" type and only two cars belongs to automatic and all the cars which \n",
    "    came for sale all are belongs to petrol cars. From this, the interpretation will be people are not willing to sell \n",
    "    \"Diesel/CNG\" cars\n",
    "   "
   ]
  },
  {
   "cell_type": "markdown",
   "metadata": {},
   "source": [
    "### Multivariateplot"
   ]
  },
  {
   "cell_type": "code",
   "execution_count": null,
   "metadata": {},
   "outputs": [],
   "source": [
    "k=sns.pairplot(cars24,hue=\"Mode\");\n",
    "#k=plt.title(\"Pair plot between numerical variables wrt Gear transmission\",fontsize=10,fontweight=\"bold\")\n",
    "plt.show(k)"
   ]
  },
  {
   "cell_type": "markdown",
   "metadata": {},
   "source": [
    "##### Insight\n",
    "* The above plot tells us that the relation between all the numerical variables present in the dataset"
   ]
  },
  {
   "cell_type": "code",
   "execution_count": null,
   "metadata": {},
   "outputs": [],
   "source": [
    "# To install modules in jupyter note book instead of command prompt we need to use exclamation mark before pip\n",
    "! pip install ipympl"
   ]
  },
  {
   "cell_type": "code",
   "execution_count": null,
   "metadata": {},
   "outputs": [],
   "source": [
    "#For importing 3d plot libraries\n",
    "\n",
    "from mpl_toolkits import mplot3d\n",
    "\n",
    "k=plt.figure(figsize=(5,10))\n",
    "#fig = plt.figure()\n",
    "ax = plt.axes(projection = '3d')\n",
    "ax.scatter(cars24[\"km_driven\"],cars24[\"Totalprice\"],cars24[\"Pricepermonth\"])\n",
    "k=plt.xticks(rotation=40)\n",
    "k=plt.tight_layout()\n",
    "k=plt.title(\"3D plot km_driven vs Totalprice vs Price per month \",fontsize=10,fontweight=\"bold\")\n",
    "plt.show(k)"
   ]
  },
  {
   "cell_type": "code",
   "execution_count": null,
   "metadata": {},
   "outputs": [],
   "source": [
    "\n",
    "\n",
    "cars24.groupby([\"Fuel\",\"Ownertype\"])[\"Pricepermonth\"].mean()"
   ]
  },
  {
   "cell_type": "code",
   "execution_count": null,
   "metadata": {},
   "outputs": [],
   "source": [
    "cars24.groupby([\"Fuel\",\"Ownertype\"])[\"Totalprice\"].mean()"
   ]
  },
  {
   "cell_type": "code",
   "execution_count": null,
   "metadata": {},
   "outputs": [],
   "source": [
    "cars24.head()"
   ]
  },
  {
   "cell_type": "markdown",
   "metadata": {},
   "source": [
    "## Some Assumptions\n",
    "\n",
    "#### Applicable for every class:\n",
    "   - if we drive Minimum  40000km then we can be advantegous with diesel cars over Petrol cars, bcz initial cosst of Diesel car\n",
    "     is high\n",
    "   - if we want to change the car for 2-3 years then petrol cars would be better, because initial cost is hiigher for diesel\n",
    "     cars. Diesel car will be advantegeous if we maintain 5 to 10 years.\n",
    "   - Another advantage of Diesel cars is resale price will be higher because less number of cars and it gives good pickup also.\n",
    "   - Better if we take diesel/CNG car because it gives 21km/lr & 16km/lr milage and also gives good accelaration\n",
    "   - Mode is \"Automatic\" for younger people because they like that most and gives smoothness in drive in traffic \n",
    "     conditions, but for the old people and who is confortable with clutch they like Manual because they habituated with it\n",
    "   - For long drives it is suitable to have \"Automatic\" transmission, otherwise it may give fatigueness to the driver\n",
    "   - The insurance cost would be higher for diesel cars\n",
    "   - The price per months taken by taking mean values of price per month for each fuel type and owner type.\n",
    "\n",
    " ######  For  middle class the ideal parameters we can consider is:\n",
    "       1. Total price is 7 to 8 lakhs for 1st ownertype and Total price is 4 to 6 lakhs for 2nd ownertype for Diesel cars\n",
    "       2. Total price is 5 to 5.5 lakhs for 1st ownertype and Total price is 2 to 4 lakhs for 2nd ownertype for Petrol cars\n",
    "       3. Pricepermonth(EMI)  is 16000 to 18000  for 1st ownertype and Pricepermonth  is 13000 to 15000 for Diesel\n",
    "          cars for 2nd ownertype for Diesel cars\n",
    "       4. Pricepermonth((EMI)  is 11000 to 13500  for 1st ownertype and Pricepermonth  is 9500 to 11000 for Petrol\n",
    "          cars for 2nd ownertype  for Petrol cars\n",
    "       \n",
    "  ######  For  rich class the ideal parameters we can consider is:\n",
    "        1. Total price is 12 to 18 lakhs for 1st ownertype and Total price is 8 to 12 lakhs for 2nd ownertype for Diesel cars\n",
    "        2. Total price is 10 to 15 lakhs for 1st ownertype and Total price is 7 to 11 lakhs for 2nd ownertype for Petrol cars\n",
    "        3. Pricepermonth(EMI)  is 26000 to 40000  for 1st ownertype and Pricepermonth  is 21000 to 30000 for Diesel\n",
    "           cars for 2nd ownertype for Diesel cars\n",
    "        4. Pricepermonth(EMI)  is 20000 to 37000  for 1st ownertype and Pricepermonth  is 15000 to 27000 for petrol\n",
    "           cars for 2nd ownertype for Petrol cars\n",
    "           \n",
    "         \n",
    "- For CNG cars the prices is between Petrol & Diesel cars, here LPG cars only 2 cars so they taken out"
   ]
  },
  {
   "cell_type": "code",
   "execution_count": null,
   "metadata": {},
   "outputs": [],
   "source": [
    "city_name = list(input(\"Please enther the city name: \").split(\",\"))\n",
    "years=int(input(\"Enter the starting year: \"))\n",
    "# You can enter zero if you dont know number of Kilometers driven\n",
    "kiometersdriven=float(input(\"Enter the no of kilometers that car already travelled: \"))\n",
    "Ownertype=list(input(\"please enter the owner type: \").split(\",\"))\n",
    "Mode=list(input(\"Please enther the mode : \").split(\",\"))\n",
    "companyname = list(input(\"Please enther the company name: \").split(\",\"))\n",
    "# You can enter Startprice and Endprice only if you want buy the car otherwise put \"0\" in both Start&End price\n",
    "Startprice=int(input(\"Minimum price you can put: \"))\n",
    "Endprice=int(input(\"Maximum price you can put: \"))\n",
    "# You can enter Startpricemonth and Endpricemonth only if you want buy the car for a month otherwise put \"0\" in both Start&End pricepermonth\n",
    "Startpricemonth=int(input(\"Minimum pricepermonth(for EMI) you can put: \"))\n",
    "Endpricemonth=int(input(\"Maximum pricepermonth(for EMI) you can put: \"))\n",
    "# Any_df means any car type\n",
    "Any_df=cars24[(cars24[\"Cityname\"].isin(city_name)) & (cars24[\"Year\"]>=years) & (cars24['km_driven']>=kiometersdriven) & (cars24[\"Ownertype\"].isin(Ownertype)) & (((cars24[\"Totalprice\"]>=Startprice) & (cars24[\"Totalprice\"]<Endprice)) | ((cars24[\"Pricepermonth\"]>=Startpricemonth) & (cars24[\"Pricepermonth\"]<=Endpricemonth))) & (cars24[\"Mode\"].isin(Mode)) & ((cars24[\"Company_name\"].isin(companyname)) | (~cars24[\"Company_name\"].isin(companyname)))]\n",
    "Any_df\n",
    "Any_df.shape\n",
    "k=plt.figure(figsize=(15,5))\n",
    "\n",
    "k=plt.subplot(1, 2, 1)\n",
    "k = sns.barplot(x=\"Vehiclename\", y=\"Totalprice\", hue=\"Fuel\",data=Any_df, palette=\"muted\")\n",
    "k=k.set_xticklabels(k.get_xticklabels(), rotation=90, ha=\"right\")\n",
    "k=plt.legend(loc='upper right')\n",
    "k=plt.title(\"Vehiclename vs Totalprice wrt fueltype\",fontsize=10,fontweight=\"bold\")\n",
    "k=plt.tight_layout()\n",
    "\n",
    "k=plt.subplot(1, 2, 2)\n",
    "k=sns.barplot(x=\"Vehiclename\",y=\"km_driven\", hue=\"Ownertype\",data=Any_df, palette=\"muted\")\n",
    "k=k.set_xticklabels(k.get_xticklabels(), rotation=90, ha=\"right\")\n",
    "k=plt.legend(loc='upper right')\n",
    "k=plt.title(\"Vehiclename vs km_driven wrt Ownertype\",fontsize=10,fontweight=\"bold\")\n",
    "k=plt.tight_layout()\n",
    "\n",
    "k=plt.figure(figsize=(15,10))\n",
    "k=plt.subplot(2, 2, 1)\n",
    "k=sns.barplot(x=\"Vehiclename\",y=\"Totalprice\",hue=\"Cityname\",data=Any_df)\n",
    "k=k.set_xticklabels(k.get_xticklabels(), rotation=90, ha=\"right\")\n",
    "k=plt.legend(loc='upper right')\n",
    "k=plt.title(\"Vehiclename vs Totalprice wrt Cityname\",fontsize=10,fontweight=\"bold\")\n",
    "k=plt.tight_layout()\n",
    "\n",
    "k=plt.subplot(2, 2, 2)\n",
    "k = sns.swarmplot(x=\"Vehiclename\", y=\"Pricepermonth\", hue=\"Mode\",data=Any_df, palette=\"muted\")\n",
    "k=k.set_xticklabels(k.get_xticklabels(), rotation=90, ha=\"right\")\n",
    "k=plt.legend(loc='upper right')\n",
    "k=plt.title(\"Vehiclename vs Price per month  wrt Gear transmission\",fontsize=10,fontweight=\"bold\")\n",
    "k=plt.tight_layout()\n",
    "\n",
    "plt.show(k)\n"
   ]
  },
  {
   "cell_type": "code",
   "execution_count": null,
   "metadata": {},
   "outputs": [],
   "source": [
    "#Partcomp means For Particular company\n",
    "Partcomp_df=cars24[(cars24[\"Cityname\"].isin(city_name)) & (cars24[\"Year\"]>=years) & (cars24['km_driven']>=kiometersdriven) & (cars24[\"Ownertype\"].isin(Ownertype)) & (cars24[\"Totalprice\"]>=Startprice) & (cars24[\"Totalprice\"]<=Endprice) & (cars24[\"Mode\"].isin(Mode)) & ((cars24[\"Company_name\"].isin(companyname)))]\n",
    "Partcomp_df"
   ]
  },
  {
   "cell_type": "markdown",
   "metadata": {},
   "source": [
    "#### Insight\n",
    "\n",
    "##### For Delhi city and car owner type is 1st\n",
    "    - for middle class in Petrol cars budget and to buy permanently\n",
    "       - \"Maruti Baleno DELTA DDIS 190\" with Total price 549299/- is good for Middle class people because its available as \n",
    "         Diesel fuel in petrol cars budget and also it is Manual type. For middle class young people \"Tata Tiago XZA 1.2 \n",
    "         REVOTRON\" with Total price 542299 is good, beacause it is automatic and also Diesel car\n",
    "\n",
    "    - for middle class in Petrol cars budget and to buy on EMI basis(pricepermonth)\n",
    "       - Best car in Manual transmission is \"Maruti Dzire\", with price per month 12012/- and Fueltype is Diesel.  For middle \n",
    "       class young people \"Tata Tiago XZA 1.2 REVOTRON\" with priceper\n",
    "       month 11970/- is good, beacause it is automatic and also Diesel car\n",
    "\n",
    " \n",
    "    - for rich class in Diesel cars budget and to buy permanently\n",
    "       - \"Honda civic ZX MT DIESEL\" with Total price 1751899/- is good for rich class people because its available as Diesel \n",
    "       fuel in Diesel cars budget and also it is Manual type. For rich class young people \"Toyota Innova Crysta Touring \n",
    "       Sport Diesel AT\" with Total price 1547299/- is good, beacause it is automatic and also Diesel car\n",
    "          \n",
    "     - for rich class in Diesel cars budget and to buy on EMI basis(pricepermonth)\n",
    "       - Best car in Manual transmission is \"Honda civic ZX MT DIESEL\", with price per  month 38970/- and Fueltype is Diesel\n",
    "       for rich class young people \"Toyota Innova Crysta Touring SportDiesel AT\" with pricepermonth 34419/- is good, \n",
    "       beacause it is automatic and also Diesel car\n",
    "\n",
    "\n",
    " \n",
    " \n",
    " \n",
    " "
   ]
  },
  {
   "cell_type": "markdown",
   "metadata": {},
   "source": [
    "### Conclusion\n",
    "To summarize this, from the above all the graphs, first, we can tell that the \"Maruti\" company cars are high in number for \n",
    "sale. Second, 70% of cars coming for sale is of 1st owner type, Third, the maximum price company cars for sale are Volvo\n",
    "and Volkswegan. fourth, manual cars 80% higher than automatic cars. fifth, the car prices will be different for different cities\n",
    "depends on car ownertype, year of purchase, city average costs. sixth, To get good mileage people will prefer Diesel/CNG cars than petrol cars. Seventh, the 90 % cars coming for sale are in between 0 to 10000km driven. Eigth, Petrol cars are more than Diesel cars. Nineth, the price per month is around 0 to 20000  and Total price is 2 to 30 lakhs, for almost all of the cars.\n",
    "Tenth, 90% of cars year of purchase is in between 2010 to 2020.These are some of the points to consider based on the above data."
   ]
  },
  {
   "cell_type": "code",
   "execution_count": null,
   "metadata": {},
   "outputs": [],
   "source": []
  }
 ],
 "metadata": {
  "kernelspec": {
   "display_name": "Python 3",
   "language": "python",
   "name": "python3"
  },
  "language_info": {
   "codemirror_mode": {
    "name": "ipython",
    "version": 3
   },
   "file_extension": ".py",
   "mimetype": "text/x-python",
   "name": "python",
   "nbconvert_exporter": "python",
   "pygments_lexer": "ipython3",
   "version": "3.7.6"
  }
 },
 "nbformat": 4,
 "nbformat_minor": 4
}
